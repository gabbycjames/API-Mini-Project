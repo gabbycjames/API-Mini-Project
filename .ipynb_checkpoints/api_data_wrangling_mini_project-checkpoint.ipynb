{
 "cells": [
  {
   "cell_type": "markdown",
   "metadata": {},
   "source": [
    "This exercise will require you to pull some data from the Qunadl API. Qaundl is currently the most widely used aggregator of financial market data."
   ]
  },
  {
   "cell_type": "markdown",
   "metadata": {},
   "source": [
    "As a first step, you will need to register a free account on the http://www.quandl.com website."
   ]
  },
  {
   "cell_type": "markdown",
   "metadata": {},
   "source": [
    "After you register, you will be provided with a unique API key, that you should store:"
   ]
  },
  {
   "cell_type": "code",
   "execution_count": 197,
   "metadata": {
    "tags": []
   },
   "outputs": [],
   "source": [
    "# Store the API key as a string - according to PEP8, constants are always named in all upper case\n",
    "API_KEY = 'rxzW8Gm19x1pcgBvKedd'"
   ]
  },
  {
   "cell_type": "markdown",
   "metadata": {},
   "source": [
    "Qaundl has a large number of data sources, but, unfortunately, most of them require a Premium subscription. Still, there are also a good number of free datasets."
   ]
  },
  {
   "cell_type": "markdown",
   "metadata": {},
   "source": [
    "For this mini project, we will focus on equities data from the Frankfurt Stock Exhange (FSE), which is available for free. We'll try and analyze the stock prices of a company called Carl Zeiss Meditec, which manufactures tools for eye examinations, as well as medical lasers for laser eye surgery: https://www.zeiss.com/meditec/int/home.html. The company is listed under the stock ticker AFX_X."
   ]
  },
  {
   "cell_type": "markdown",
   "metadata": {},
   "source": [
    "You can find the detailed Quandl API instructions here: https://docs.quandl.com/docs/time-series"
   ]
  },
  {
   "cell_type": "markdown",
   "metadata": {},
   "source": [
    "While there is a dedicated Python package for connecting to the Quandl API, we would prefer that you use the *requests* package, which can be easily downloaded using *pip* or *conda*. You can find the documentation for the package here: http://docs.python-requests.org/en/master/ "
   ]
  },
  {
   "cell_type": "markdown",
   "metadata": {},
   "source": [
    "Finally, apart from the *requests* package, you are encouraged to not use any third party Python packages, such as *pandas*, and instead focus on what's available in the Python Standard Library (the *collections* module might come in handy: https://pymotw.com/3/collections/ ).\n",
    "Also, since you won't have access to DataFrames, you are encouraged to us Python's native data structures - preferably dictionaries, though some questions can also be answered using lists.\n",
    "You can read more on these data structures here: https://docs.python.org/3/tutorial/datastructures.html"
   ]
  },
  {
   "cell_type": "markdown",
   "metadata": {},
   "source": [
    "Keep in mind that the JSON responses you will be getting from the API map almost one-to-one to Python's dictionaries. Unfortunately, they can be very nested, so make sure you read up on indexing dictionaries in the documentation provided above."
   ]
  },
  {
   "cell_type": "code",
   "execution_count": 198,
   "metadata": {
    "tags": []
   },
   "outputs": [],
   "source": [
    "# First, import the relevant modules\n",
    "import requests\n",
    "import json\n",
    "import collections\n",
    "import quandl"
   ]
  },
  {
   "cell_type": "markdown",
   "metadata": {},
   "source": [
    "Note: API's can change a bit with each version, for this exercise it is reccomended to use the \"V3\" quandl api at `https://www.quandl.com/api/v3/`"
   ]
  },
  {
   "cell_type": "code",
   "execution_count": 199,
   "metadata": {
    "tags": []
   },
   "outputs": [],
   "source": [
    "# Now, call the Quandl API and pull out a small sample of the data (only one day) to get a glimpse\n",
    "# into the JSON structure that will be returned\n",
    "#for key, value in json_data.items():\n",
    "#    print(key + ';', value)"
   ]
  },
  {
   "cell_type": "code",
   "execution_count": 200,
   "metadata": {
    "tags": []
   },
   "outputs": [],
   "source": [
    "url = f\"https://data.nasdaq.com/api/v3/datasets/FSE/AFX_X/data.json?start_date=2014-01-01&end_date=2014-01-02&api_key={'rxzW8Gm19x1pcgBvKedd'}\"\n",
    "r = requests.get(url)\n",
    "test_data_json = r.json()"
   ]
  },
  {
   "cell_type": "code",
   "execution_count": 201,
   "metadata": {
    "tags": []
   },
   "outputs": [],
   "source": [
    "#print(test_data_json)"
   ]
  },
  {
   "cell_type": "code",
   "execution_count": 202,
   "metadata": {
    "tags": []
   },
   "outputs": [],
   "source": [
    "level1 = test_data_json.get('dataset_data')"
   ]
  },
  {
   "cell_type": "code",
   "execution_count": 203,
   "metadata": {
    "tags": []
   },
   "outputs": [],
   "source": [
    "level2 = level1.get('data')"
   ]
  },
  {
   "cell_type": "code",
   "execution_count": 204,
   "metadata": {
    "tags": []
   },
   "outputs": [],
   "source": [
    "def flatten(xss):\n",
    "    return [x for xs in xss for x in xs]\n",
    "\n",
    "flat_list_test = flatten(level2)"
   ]
  },
  {
   "cell_type": "code",
   "execution_count": 205,
   "metadata": {},
   "outputs": [
    {
     "name": "stdout",
     "output_type": "stream",
     "text": [
      "             Open   High    Low  Close  Change  Traded Volume  Turnover  \\\n",
      "Date                                                                      \n",
      "2000-06-07    NaN    NaN    NaN   38.0     NaN            0.0       NaN   \n",
      "2000-06-08    NaN    NaN    NaN   38.0     NaN            0.0       NaN   \n",
      "2000-06-09    NaN    NaN    NaN   45.0     NaN            0.0       NaN   \n",
      "2000-06-12    NaN    NaN    NaN   45.0     NaN            0.0       NaN   \n",
      "2000-06-13    NaN    NaN    NaN   45.0     NaN            0.0       NaN   \n",
      "...           ...    ...    ...    ...     ...            ...       ...   \n",
      "2020-11-25  111.4  111.4  110.1  110.1     NaN          294.0   32435.8   \n",
      "2020-11-26  111.3  112.0  110.5  111.6     NaN          254.0   28367.5   \n",
      "2020-11-27  111.0  111.5  109.5  111.2     NaN          155.0   17168.5   \n",
      "2020-11-30  111.0  113.6  111.0  112.1     NaN          315.0   35111.5   \n",
      "2020-12-01  112.2  112.2  111.5  112.0     NaN           51.0    5703.0   \n",
      "\n",
      "           Last Price of the Day Daily Traded Units  Daily Turnover  \n",
      "Date                                                                 \n",
      "2000-06-07                  None               None             0.0  \n",
      "2000-06-08                  None               None             0.0  \n",
      "2000-06-09                  None               None             0.0  \n",
      "2000-06-12                  None               None             0.0  \n",
      "2000-06-13                  None               None             0.0  \n",
      "...                          ...                ...             ...  \n",
      "2020-11-25                  None               None             NaN  \n",
      "2020-11-26                  None               None             NaN  \n",
      "2020-11-27                  None               None             NaN  \n",
      "2020-11-30                  None               None             NaN  \n",
      "2020-12-01                  None               None             NaN  \n",
      "\n",
      "[5268 rows x 10 columns]\n"
     ]
    }
   ],
   "source": [
    "# Inspect the JSON structure of the object you created, and take note of how nested it is,\n",
    "# as well as the overall structure\n",
    "data = quandl.get('FSE/AFX_X')\n",
    "print(data)"
   ]
  },
  {
   "cell_type": "markdown",
   "metadata": {},
   "source": [
    "These are your tasks for this mini project:\n",
    "\n",
    "1. Collect data from the Franfurt Stock Exchange, for the ticker AFX_X, for the whole year 2017 (keep in mind that the date format is YYYY-MM-DD).\n",
    "2. Convert the returned JSON object into a Python dictionary.\n",
    "3. Calculate what the highest and lowest opening prices were for the stock in this period.\n",
    "4. What was the largest change in any one day (based on High and Low price)?\n",
    "5. What was the largest change between any two days (based on Closing Price)?\n",
    "6. What was the average daily trading volume during this year?\n",
    "7. (Optional) What was the median trading volume during this year. (Note: you may need to implement your own function for calculating the median.)"
   ]
  },
  {
   "cell_type": "code",
   "execution_count": 206,
   "metadata": {
    "tags": []
   },
   "outputs": [],
   "source": [
    "url_2017 = f\"https://data.nasdaq.com/api/v3/datasets/FSE/AFX_X?start_date=2017-01-01&end_date=2017-12-31&api_key={'rxzW8Gm19x1pcgBvKedd'}\"\n",
    "# link: https://data.nasdaq.com/api/v3/datasets/FSE/AFX_X?start_date=2017-01-01&end_date=2017-12-31&api_key={'rxzW8Gm19x1pcgBvKedd'}\n",
    "d = requests.get(url_2017)\n",
    "data_2017 = d.json()"
   ]
  },
  {
   "cell_type": "code",
   "execution_count": 207,
   "metadata": {
    "tags": []
   },
   "outputs": [],
   "source": [
    "#print(data_2017)"
   ]
  },
  {
   "cell_type": "code",
   "execution_count": 208,
   "metadata": {
    "tags": []
   },
   "outputs": [
    {
     "data": {
      "text/plain": [
       "dict"
      ]
     },
     "execution_count": 208,
     "metadata": {},
     "output_type": "execute_result"
    }
   ],
   "source": [
    "type(data_2017)"
   ]
  },
  {
   "cell_type": "code",
   "execution_count": 209,
   "metadata": {
    "tags": []
   },
   "outputs": [
    {
     "data": {
      "text/plain": [
       "['Date',\n",
       " 'Open',\n",
       " 'High',\n",
       " 'Low',\n",
       " 'Close',\n",
       " 'Change',\n",
       " 'Traded Volume',\n",
       " 'Turnover',\n",
       " 'Last Price of the Day',\n",
       " 'Daily Traded Units',\n",
       " 'Daily Turnover']"
      ]
     },
     "execution_count": 209,
     "metadata": {},
     "output_type": "execute_result"
    }
   ],
   "source": [
    "data_2017['dataset']['column_names']"
   ]
  },
  {
   "cell_type": "code",
   "execution_count": 210,
   "metadata": {
    "tags": []
   },
   "outputs": [],
   "source": [
    "data_2017_sub = data_2017['dataset']['data']"
   ]
  },
  {
   "cell_type": "code",
   "execution_count": 211,
   "metadata": {
    "tags": []
   },
   "outputs": [
    {
     "name": "stdout",
     "output_type": "stream",
     "text": [
      "The highest opening price is 53.54\n"
     ]
    }
   ],
   "source": [
    "# 3. Highest opening price\n",
    "highs = []\n",
    "for i in data_2017_sub:\n",
    "    highs.append(i[2])\n",
    "print(\"The highest opening price is \" + str(max(highs)))"
   ]
  },
  {
   "cell_type": "code",
   "execution_count": 212,
   "metadata": {
    "tags": []
   },
   "outputs": [
    {
     "name": "stdout",
     "output_type": "stream",
     "text": [
      "The date of the highest opening price is 2017-12-14\n"
     ]
    }
   ],
   "source": [
    "# Date of highest opening price\n",
    "for i in data_2017_sub:\n",
    "    if i[2] == max(highs):\n",
    "        print(\"The date of the highest opening price is \" + str(i[0]))"
   ]
  },
  {
   "cell_type": "code",
   "execution_count": 213,
   "metadata": {
    "tags": []
   },
   "outputs": [
    {
     "name": "stdout",
     "output_type": "stream",
     "text": [
      "The lowest opening price is 33.62\n"
     ]
    }
   ],
   "source": [
    "# 3. Lowest opening price\n",
    "lows = []\n",
    "for i in data_2017_sub:\n",
    "    lows.append(i[3])\n",
    "print(\"The lowest opening price is \" + str(min(lows)))"
   ]
  },
  {
   "cell_type": "code",
   "execution_count": 214,
   "metadata": {
    "tags": []
   },
   "outputs": [
    {
     "name": "stdout",
     "output_type": "stream",
     "text": [
      "The date of the lowest opening price is 2017-01-23\n"
     ]
    }
   ],
   "source": [
    "# 3. Date of lowest opening price\n",
    "for i in data_2017_sub:\n",
    "    if i[3] == min(lows):\n",
    "        print(\"The date of the lowest opening price is \" + str(i[0]))"
   ]
  },
  {
   "cell_type": "code",
   "execution_count": 215,
   "metadata": {},
   "outputs": [
    {
     "name": "stdout",
     "output_type": "stream",
     "text": [
      "The largest change in price is 2.8100000000000023\n"
     ]
    }
   ],
   "source": [
    "# 4. Largest change in one day\n",
    "change = []\n",
    "for i in data_2017_sub:\n",
    "    dif = i[2]-i[3]\n",
    "    change.append(dif)\n",
    "print(\"The largest change in price is \" + str(max(change)))"
   ]
  },
  {
   "cell_type": "code",
   "execution_count": 216,
   "metadata": {
    "tags": []
   },
   "outputs": [
    {
     "name": "stdout",
     "output_type": "stream",
     "text": [
      "The date of the largest change in price is 2017-05-11\n"
     ]
    }
   ],
   "source": [
    "# 4. Date of largest change in one day\n",
    "for i in data_2017_sub:\n",
    "    if i[2]-i[3] == max(change):\n",
    "        print(\"The date of the largest change in price is \" + str(i[0]))"
   ]
  },
  {
   "cell_type": "code",
   "execution_count": 217,
   "metadata": {
    "tags": []
   },
   "outputs": [
    {
     "name": "stdout",
     "output_type": "stream",
     "text": [
      "The largest difference in closing prices is 19.03\n"
     ]
    }
   ],
   "source": [
    "# 5. Biggest diff in closing prices\n",
    "closing = []\n",
    "for i in data_2017_sub:\n",
    "    closing.append(i[4])\n",
    "closing_dif = max(closing) - min(closing)\n",
    "print(\"The largest difference in closing prices is \" + str(closing_dif))"
   ]
  },
  {
   "cell_type": "code",
   "execution_count": 218,
   "metadata": {
    "tags": []
   },
   "outputs": [
    {
     "name": "stdout",
     "output_type": "stream",
     "text": [
      "Date of highest closing: 2017-12-13\n",
      "Date of lowest closing: 2017-01-23\n"
     ]
    }
   ],
   "source": [
    "# 5. Dates of biggest difference in closing prices\n",
    "date_high = []\n",
    "date_low = []\n",
    "for i in data_2017_sub:\n",
    "    if i[4] == max(closing):\n",
    "        date_high = i[0]\n",
    "    elif i[4] == min(closing):\n",
    "        date_low = i[0]\n",
    "print(\"Date of highest closing: \" + date_high)\n",
    "print(\"Date of lowest closing: \" + date_low)"
   ]
  },
  {
   "cell_type": "code",
   "execution_count": 222,
   "metadata": {
    "tags": []
   },
   "outputs": [
    {
     "name": "stdout",
     "output_type": "stream",
     "text": [
      "The average trading volume for 2017 is 89124.33725490196\n"
     ]
    }
   ],
   "source": [
    "# 6. Average trading volume\n",
    "total = 0\n",
    "for i in data_2017_sub:\n",
    "    total = total + i[6]\n",
    "avg_vol = total/len(data_2017_sub)\n",
    "print(\"The average trading volume for 2017 is \" + str(avg_vol))"
   ]
  },
  {
   "cell_type": "code",
   "execution_count": 220,
   "metadata": {
    "tags": []
   },
   "outputs": [],
   "source": [
    "# 7. Median trading volume\n",
    "def median_vol(lst):\n",
    "    vol = []\n",
    "    sorted_vol = []\n",
    "    for i in lst:\n",
    "        vol.append(i[6])\n",
    "    sorted_vol = sorted(vol)\n",
    "    middle = int(len(vol)/2)\n",
    "    #print(sorted_vol)\n",
    "    return sorted_vol[middle]"
   ]
  },
  {
   "cell_type": "code",
   "execution_count": 223,
   "metadata": {
    "tags": []
   },
   "outputs": [
    {
     "name": "stdout",
     "output_type": "stream",
     "text": [
      "The median trading volume is 76286.0\n"
     ]
    }
   ],
   "source": [
    "print(\"The median trading volume is \" + str(median_vol(data_2017_sub)))"
   ]
  }
 ],
 "metadata": {
  "kernelspec": {
   "display_name": "Python 3 (ipykernel)",
   "language": "python",
   "name": "python3"
  },
  "language_info": {
   "codemirror_mode": {
    "name": "ipython",
    "version": 3
   },
   "file_extension": ".py",
   "mimetype": "text/x-python",
   "name": "python",
   "nbconvert_exporter": "python",
   "pygments_lexer": "ipython3",
   "version": "3.11.5"
  }
 },
 "nbformat": 4,
 "nbformat_minor": 4
}
